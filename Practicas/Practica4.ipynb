{
  "nbformat": 4,
  "nbformat_minor": 0,
  "metadata": {
    "colab": {
      "provenance": [],
      "toc_visible": true,
      "authorship_tag": "ABX9TyOPHDT4l+MYb5csWaTja0aR",
      "include_colab_link": true
    },
    "kernelspec": {
      "name": "python3",
      "display_name": "Python 3"
    },
    "language_info": {
      "name": "python"
    }
  },
  "cells": [
    {
      "cell_type": "markdown",
      "metadata": {
        "id": "view-in-github",
        "colab_type": "text"
      },
      "source": [
        "<a href=\"https://colab.research.google.com/github/Valeria-YL/2047880MINERIA/blob/main/Practicas/Practica4.ipynb\" target=\"_parent\"><img src=\"https://colab.research.google.com/assets/colab-badge.svg\" alt=\"Open In Colab\"/></a>"
      ]
    },
    {
      "cell_type": "code",
      "source": [
        "import kagglehub\n",
        "import pandas as pd\n",
        "import os\n",
        "from scipy import stats\n",
        "\n",
        "# Download latest version\n",
        "path = kagglehub.dataset_download(\"sumedh1507/blood-donor-dataset\")\n",
        "\n",
        "print(\"Path to dataset files:\", path)\n",
        "\n",
        "df = pd.read_csv(os.path.join(path, \"blood_donor_dataset.csv\"))\n",
        "print(df.columns)"
      ],
      "metadata": {
        "colab": {
          "base_uri": "https://localhost:8080/"
        },
        "id": "kFGmeB57RI3f",
        "outputId": "7e74f05a-f0e5-4b15-ac10-6b6db75b67b0"
      },
      "execution_count": 18,
      "outputs": [
        {
          "output_type": "stream",
          "name": "stdout",
          "text": [
            "Using Colab cache for faster access to the 'blood-donor-dataset' dataset.\n",
            "Path to dataset files: /kaggle/input/blood-donor-dataset\n",
            "Index(['donor_id', 'name', 'email', 'password', 'contact_number', 'city',\n",
            "       'blood_group', 'availability', 'months_since_first_donation',\n",
            "       'number_of_donation', 'pints_donated', 'created_at'],\n",
            "      dtype='object')\n"
          ]
        }
      ]
    },
    {
      "cell_type": "markdown",
      "source": [
        " Seleccionamos una variable categórica para definir un grupo después, seleccionamos una variable numérica para comparar dentro del grupo. En este caso nuestra variable categórica seria 'blood_group' (grupo sanguíneo) y nuestra variable númerica 'number_of_donation' (número de donación). Vamos a comparar el número de donaciones entre los distintos grupos sanguíneos."
      ],
      "metadata": {
        "id": "qYSulsovPGyo"
      }
    },
    {
      "cell_type": "code",
      "source": [
        "grupos = [grupo['number_of_donation'].values for tipo_sangre, grupo in df.groupby('blood_group')]\n",
        "\n",
        "# Análisis de Varianza (ANOVA)\n",
        "resultado_anova = stats.f_oneway(*grupos)\n",
        "print(f\"ANOVA Estadistico-f: {resultado_anova.statistic:.3f}\")\n",
        "print(f\"ANOVA valor-p: {resultado_anova.pvalue:.4f}\")\n",
        "\n",
        "if resultado_anova.pvalue < 0.05:\n",
        "    print(\"Diferencia estadísticamente significativa entre los grupos (p < 0.05).\")\n",
        "else:\n",
        "    print(\"No hay diferencia estadísticamente significativa entre los grupos (p ≥ 0.05).\")\n",
        "\n",
        "print(\"\\n\")\n",
        "#Kruskal-Wallis Test\n",
        "resultado_kruskal = stats.kruskal(*grupos)\n",
        "print(f\"Kruskal-Wallis Estadistico-h: {resultado_kruskal.statistic:.3f}\")\n",
        "print(f\"Kruskal-Wallis valor-p: {resultado_kruskal.pvalue:.4f}\")"
      ],
      "metadata": {
        "colab": {
          "base_uri": "https://localhost:8080/"
        },
        "id": "jvqUVwbOLmzo",
        "outputId": "aea3041b-4282-40c0-a55b-0cb0c39d1cb7"
      },
      "execution_count": 26,
      "outputs": [
        {
          "output_type": "stream",
          "name": "stdout",
          "text": [
            "ANOVA Estadistico-f: 0.688\n",
            "ANOVA valor-p: 0.6821\n",
            "No hay diferencia estadísticamente significativa entre los grupos (p ≥ 0.05).\n",
            "\n",
            "\n",
            "Kruskal-Wallis Estadistico-h: 4.830\n",
            "Kruskal-Wallis valor-p: 0.6807\n"
          ]
        }
      ]
    },
    {
      "cell_type": "markdown",
      "source": [
        "Para ver la interpretación con mayor claridad, se muestra la media de donaciones según el grupo sanguíneo."
      ],
      "metadata": {
        "id": "vuQAwxpyNq6N"
      }
    },
    {
      "cell_type": "code",
      "source": [
        "media_grupos = df.groupby('blood_group')['number_of_donation'].mean().round(2)\n",
        "print(\"Media de donaciones por grupo sanguíneo\")\n",
        "print(media_grupos)"
      ],
      "metadata": {
        "id": "VCxQ0-_7NnTg",
        "colab": {
          "base_uri": "https://localhost:8080/"
        },
        "outputId": "34bff739-812a-475c-862d-1a55b7fe254a"
      },
      "execution_count": 19,
      "outputs": [
        {
          "output_type": "stream",
          "name": "stdout",
          "text": [
            "Media de donaciones por grupo sanguíneo\n",
            "blood_group\n",
            "A+     25.17\n",
            "A-     25.16\n",
            "AB+    24.78\n",
            "AB-    25.60\n",
            "B+     24.96\n",
            "B-     25.24\n",
            "O+     24.59\n",
            "O-     25.52\n",
            "Name: number_of_donation, dtype: float64\n"
          ]
        }
      ]
    }
  ]
}