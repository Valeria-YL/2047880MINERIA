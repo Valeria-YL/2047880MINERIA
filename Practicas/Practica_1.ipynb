{
  "nbformat": 4,
  "nbformat_minor": 0,
  "metadata": {
    "colab": {
      "provenance": [],
      "authorship_tag": "ABX9TyO06wtn8db64i3jRSFOoEeB",
      "include_colab_link": true
    },
    "kernelspec": {
      "name": "python3",
      "display_name": "Python 3"
    },
    "language_info": {
      "name": "python"
    }
  },
  "cells": [
    {
      "cell_type": "markdown",
      "metadata": {
        "id": "view-in-github",
        "colab_type": "text"
      },
      "source": [
        "<a href=\"https://colab.research.google.com/github/Valeria-YL/2047880MINERIA/blob/main/Practicas/Practica_1.ipynb\" target=\"_parent\"><img src=\"https://colab.research.google.com/assets/colab-badge.svg\" alt=\"Open In Colab\"/></a>"
      ]
    },
    {
      "cell_type": "markdown",
      "source": [
        "Dataset encontrado en kaggle \"Predicting Blood Donor Availability\" https://www.kaggle.com/datasets/sumedh1507/blood-donor-dataset"
      ],
      "metadata": {
        "id": "5fNagTRYHO7K"
      }
    },
    {
      "cell_type": "code",
      "execution_count": 1,
      "metadata": {
        "colab": {
          "base_uri": "https://localhost:8080/"
        },
        "id": "0N6xcXTzHFZD",
        "outputId": "e5fd0035-09d3-4553-cc15-14094d3f87c3"
      },
      "outputs": [
        {
          "output_type": "stream",
          "name": "stdout",
          "text": [
            "Downloading from https://www.kaggle.com/api/v1/datasets/download/sumedh1507/blood-donor-dataset?dataset_version_number=1...\n"
          ]
        },
        {
          "output_type": "stream",
          "name": "stderr",
          "text": [
            "100%|██████████| 484k/484k [00:00<00:00, 50.2MB/s]"
          ]
        },
        {
          "output_type": "stream",
          "name": "stdout",
          "text": [
            "Extracting files...\n",
            "Path to dataset files: /root/.cache/kagglehub/datasets/sumedh1507/blood-donor-dataset/versions/1\n"
          ]
        },
        {
          "output_type": "stream",
          "name": "stderr",
          "text": [
            "\n"
          ]
        }
      ],
      "source": [
        "import kagglehub\n",
        "\n",
        "# Download latest version\n",
        "path = kagglehub.dataset_download(\"sumedh1507/blood-donor-dataset\")\n",
        "\n",
        "print(\"Path to dataset files:\", path)"
      ]
    },
    {
      "cell_type": "code",
      "source": [
        "import os\n",
        "os.listdir(path)"
      ],
      "metadata": {
        "colab": {
          "base_uri": "https://localhost:8080/"
        },
        "id": "xQKQCDoBHri4",
        "outputId": "d440f1bf-16a8-42e5-f57b-3f8e9e2a6372"
      },
      "execution_count": 2,
      "outputs": [
        {
          "output_type": "execute_result",
          "data": {
            "text/plain": [
              "['blood_donor_dataset.csv']"
            ]
          },
          "metadata": {},
          "execution_count": 2
        }
      ]
    },
    {
      "cell_type": "markdown",
      "source": [
        "Convertimos el csv a dataframe y mostramos las primeras 5 filas"
      ],
      "metadata": {
        "id": "MapdUwZtHvlu"
      }
    },
    {
      "cell_type": "code",
      "source": [
        "import pandas as pd\n",
        "\n",
        "df = pd.read_csv(os.path.join(path, \"blood_donor_dataset.csv\"))\n",
        "df.head()"
      ],
      "metadata": {
        "colab": {
          "base_uri": "https://localhost:8080/",
          "height": 310
        },
        "id": "zLIzbEE1Hx1U",
        "outputId": "aba9fbbb-91b4-4fd2-e967-6b500eb6625d"
      },
      "execution_count": 3,
      "outputs": [
        {
          "output_type": "execute_result",
          "data": {
            "text/plain": [
              "     donor_id              name                          email    password  \\\n",
              "0  1b8b4c828a      Norma Fisher            ysullivan@yahoo.com  P5hX6Syg*A   \n",
              "1  a6a3f7fe55     Eugene Bowman       hramos@brown-sellers.com  b6Wq6Cqz@5   \n",
              "2  cee6478144  Sheri Bolton DDS          jasmine85@hotmail.com  $9RB51m#s7   \n",
              "3  5986bc55f9        Kelly Boyd  pattylawrence@riley-hayes.com  @5Tdg(4kCm   \n",
              "4  93246afe6c     Taylor Guzman       martinezjacob@wilson.com  x!)9Ag@J*7   \n",
              "\n",
              "  contact_number       city blood_group availability  \\\n",
              "0  +61 461706749     Hobart          A+           No   \n",
              "1  +61 450709944     Darwin         AB-          Yes   \n",
              "2  +61 428756361  Melbourne         AB+          Yes   \n",
              "3  +61 454318320     Darwin          A-           No   \n",
              "4  +61 484158472     Darwin          O-           No   \n",
              "\n",
              "   months_since_first_donation  number_of_donation  pints_donated  created_at  \n",
              "0                           65                  31             62  2017-03-17  \n",
              "1                           64                   8             16  2016-11-11  \n",
              "2                           39                   6              6  2022-02-25  \n",
              "3                           55                  20             20  2025-04-04  \n",
              "4                            7                  35             35  2022-11-30  "
            ],
            "text/html": [
              "\n",
              "  <div id=\"df-1470e0b6-1bb1-4333-830b-13ea64f302a4\" class=\"colab-df-container\">\n",
              "    <div>\n",
              "<style scoped>\n",
              "    .dataframe tbody tr th:only-of-type {\n",
              "        vertical-align: middle;\n",
              "    }\n",
              "\n",
              "    .dataframe tbody tr th {\n",
              "        vertical-align: top;\n",
              "    }\n",
              "\n",
              "    .dataframe thead th {\n",
              "        text-align: right;\n",
              "    }\n",
              "</style>\n",
              "<table border=\"1\" class=\"dataframe\">\n",
              "  <thead>\n",
              "    <tr style=\"text-align: right;\">\n",
              "      <th></th>\n",
              "      <th>donor_id</th>\n",
              "      <th>name</th>\n",
              "      <th>email</th>\n",
              "      <th>password</th>\n",
              "      <th>contact_number</th>\n",
              "      <th>city</th>\n",
              "      <th>blood_group</th>\n",
              "      <th>availability</th>\n",
              "      <th>months_since_first_donation</th>\n",
              "      <th>number_of_donation</th>\n",
              "      <th>pints_donated</th>\n",
              "      <th>created_at</th>\n",
              "    </tr>\n",
              "  </thead>\n",
              "  <tbody>\n",
              "    <tr>\n",
              "      <th>0</th>\n",
              "      <td>1b8b4c828a</td>\n",
              "      <td>Norma Fisher</td>\n",
              "      <td>ysullivan@yahoo.com</td>\n",
              "      <td>P5hX6Syg*A</td>\n",
              "      <td>+61 461706749</td>\n",
              "      <td>Hobart</td>\n",
              "      <td>A+</td>\n",
              "      <td>No</td>\n",
              "      <td>65</td>\n",
              "      <td>31</td>\n",
              "      <td>62</td>\n",
              "      <td>2017-03-17</td>\n",
              "    </tr>\n",
              "    <tr>\n",
              "      <th>1</th>\n",
              "      <td>a6a3f7fe55</td>\n",
              "      <td>Eugene Bowman</td>\n",
              "      <td>hramos@brown-sellers.com</td>\n",
              "      <td>b6Wq6Cqz@5</td>\n",
              "      <td>+61 450709944</td>\n",
              "      <td>Darwin</td>\n",
              "      <td>AB-</td>\n",
              "      <td>Yes</td>\n",
              "      <td>64</td>\n",
              "      <td>8</td>\n",
              "      <td>16</td>\n",
              "      <td>2016-11-11</td>\n",
              "    </tr>\n",
              "    <tr>\n",
              "      <th>2</th>\n",
              "      <td>cee6478144</td>\n",
              "      <td>Sheri Bolton DDS</td>\n",
              "      <td>jasmine85@hotmail.com</td>\n",
              "      <td>$9RB51m#s7</td>\n",
              "      <td>+61 428756361</td>\n",
              "      <td>Melbourne</td>\n",
              "      <td>AB+</td>\n",
              "      <td>Yes</td>\n",
              "      <td>39</td>\n",
              "      <td>6</td>\n",
              "      <td>6</td>\n",
              "      <td>2022-02-25</td>\n",
              "    </tr>\n",
              "    <tr>\n",
              "      <th>3</th>\n",
              "      <td>5986bc55f9</td>\n",
              "      <td>Kelly Boyd</td>\n",
              "      <td>pattylawrence@riley-hayes.com</td>\n",
              "      <td>@5Tdg(4kCm</td>\n",
              "      <td>+61 454318320</td>\n",
              "      <td>Darwin</td>\n",
              "      <td>A-</td>\n",
              "      <td>No</td>\n",
              "      <td>55</td>\n",
              "      <td>20</td>\n",
              "      <td>20</td>\n",
              "      <td>2025-04-04</td>\n",
              "    </tr>\n",
              "    <tr>\n",
              "      <th>4</th>\n",
              "      <td>93246afe6c</td>\n",
              "      <td>Taylor Guzman</td>\n",
              "      <td>martinezjacob@wilson.com</td>\n",
              "      <td>x!)9Ag@J*7</td>\n",
              "      <td>+61 484158472</td>\n",
              "      <td>Darwin</td>\n",
              "      <td>O-</td>\n",
              "      <td>No</td>\n",
              "      <td>7</td>\n",
              "      <td>35</td>\n",
              "      <td>35</td>\n",
              "      <td>2022-11-30</td>\n",
              "    </tr>\n",
              "  </tbody>\n",
              "</table>\n",
              "</div>\n",
              "    <div class=\"colab-df-buttons\">\n",
              "\n",
              "  <div class=\"colab-df-container\">\n",
              "    <button class=\"colab-df-convert\" onclick=\"convertToInteractive('df-1470e0b6-1bb1-4333-830b-13ea64f302a4')\"\n",
              "            title=\"Convert this dataframe to an interactive table.\"\n",
              "            style=\"display:none;\">\n",
              "\n",
              "  <svg xmlns=\"http://www.w3.org/2000/svg\" height=\"24px\" viewBox=\"0 -960 960 960\">\n",
              "    <path d=\"M120-120v-720h720v720H120Zm60-500h600v-160H180v160Zm220 220h160v-160H400v160Zm0 220h160v-160H400v160ZM180-400h160v-160H180v160Zm440 0h160v-160H620v160ZM180-180h160v-160H180v160Zm440 0h160v-160H620v160Z\"/>\n",
              "  </svg>\n",
              "    </button>\n",
              "\n",
              "  <style>\n",
              "    .colab-df-container {\n",
              "      display:flex;\n",
              "      gap: 12px;\n",
              "    }\n",
              "\n",
              "    .colab-df-convert {\n",
              "      background-color: #E8F0FE;\n",
              "      border: none;\n",
              "      border-radius: 50%;\n",
              "      cursor: pointer;\n",
              "      display: none;\n",
              "      fill: #1967D2;\n",
              "      height: 32px;\n",
              "      padding: 0 0 0 0;\n",
              "      width: 32px;\n",
              "    }\n",
              "\n",
              "    .colab-df-convert:hover {\n",
              "      background-color: #E2EBFA;\n",
              "      box-shadow: 0px 1px 2px rgba(60, 64, 67, 0.3), 0px 1px 3px 1px rgba(60, 64, 67, 0.15);\n",
              "      fill: #174EA6;\n",
              "    }\n",
              "\n",
              "    .colab-df-buttons div {\n",
              "      margin-bottom: 4px;\n",
              "    }\n",
              "\n",
              "    [theme=dark] .colab-df-convert {\n",
              "      background-color: #3B4455;\n",
              "      fill: #D2E3FC;\n",
              "    }\n",
              "\n",
              "    [theme=dark] .colab-df-convert:hover {\n",
              "      background-color: #434B5C;\n",
              "      box-shadow: 0px 1px 3px 1px rgba(0, 0, 0, 0.15);\n",
              "      filter: drop-shadow(0px 1px 2px rgba(0, 0, 0, 0.3));\n",
              "      fill: #FFFFFF;\n",
              "    }\n",
              "  </style>\n",
              "\n",
              "    <script>\n",
              "      const buttonEl =\n",
              "        document.querySelector('#df-1470e0b6-1bb1-4333-830b-13ea64f302a4 button.colab-df-convert');\n",
              "      buttonEl.style.display =\n",
              "        google.colab.kernel.accessAllowed ? 'block' : 'none';\n",
              "\n",
              "      async function convertToInteractive(key) {\n",
              "        const element = document.querySelector('#df-1470e0b6-1bb1-4333-830b-13ea64f302a4');\n",
              "        const dataTable =\n",
              "          await google.colab.kernel.invokeFunction('convertToInteractive',\n",
              "                                                    [key], {});\n",
              "        if (!dataTable) return;\n",
              "\n",
              "        const docLinkHtml = 'Like what you see? Visit the ' +\n",
              "          '<a target=\"_blank\" href=https://colab.research.google.com/notebooks/data_table.ipynb>data table notebook</a>'\n",
              "          + ' to learn more about interactive tables.';\n",
              "        element.innerHTML = '';\n",
              "        dataTable['output_type'] = 'display_data';\n",
              "        await google.colab.output.renderOutput(dataTable, element);\n",
              "        const docLink = document.createElement('div');\n",
              "        docLink.innerHTML = docLinkHtml;\n",
              "        element.appendChild(docLink);\n",
              "      }\n",
              "    </script>\n",
              "  </div>\n",
              "\n",
              "\n",
              "    <div id=\"df-dc54d30d-6d7a-4f33-a09e-cd7e42838d1d\">\n",
              "      <button class=\"colab-df-quickchart\" onclick=\"quickchart('df-dc54d30d-6d7a-4f33-a09e-cd7e42838d1d')\"\n",
              "                title=\"Suggest charts\"\n",
              "                style=\"display:none;\">\n",
              "\n",
              "<svg xmlns=\"http://www.w3.org/2000/svg\" height=\"24px\"viewBox=\"0 0 24 24\"\n",
              "     width=\"24px\">\n",
              "    <g>\n",
              "        <path d=\"M19 3H5c-1.1 0-2 .9-2 2v14c0 1.1.9 2 2 2h14c1.1 0 2-.9 2-2V5c0-1.1-.9-2-2-2zM9 17H7v-7h2v7zm4 0h-2V7h2v10zm4 0h-2v-4h2v4z\"/>\n",
              "    </g>\n",
              "</svg>\n",
              "      </button>\n",
              "\n",
              "<style>\n",
              "  .colab-df-quickchart {\n",
              "      --bg-color: #E8F0FE;\n",
              "      --fill-color: #1967D2;\n",
              "      --hover-bg-color: #E2EBFA;\n",
              "      --hover-fill-color: #174EA6;\n",
              "      --disabled-fill-color: #AAA;\n",
              "      --disabled-bg-color: #DDD;\n",
              "  }\n",
              "\n",
              "  [theme=dark] .colab-df-quickchart {\n",
              "      --bg-color: #3B4455;\n",
              "      --fill-color: #D2E3FC;\n",
              "      --hover-bg-color: #434B5C;\n",
              "      --hover-fill-color: #FFFFFF;\n",
              "      --disabled-bg-color: #3B4455;\n",
              "      --disabled-fill-color: #666;\n",
              "  }\n",
              "\n",
              "  .colab-df-quickchart {\n",
              "    background-color: var(--bg-color);\n",
              "    border: none;\n",
              "    border-radius: 50%;\n",
              "    cursor: pointer;\n",
              "    display: none;\n",
              "    fill: var(--fill-color);\n",
              "    height: 32px;\n",
              "    padding: 0;\n",
              "    width: 32px;\n",
              "  }\n",
              "\n",
              "  .colab-df-quickchart:hover {\n",
              "    background-color: var(--hover-bg-color);\n",
              "    box-shadow: 0 1px 2px rgba(60, 64, 67, 0.3), 0 1px 3px 1px rgba(60, 64, 67, 0.15);\n",
              "    fill: var(--button-hover-fill-color);\n",
              "  }\n",
              "\n",
              "  .colab-df-quickchart-complete:disabled,\n",
              "  .colab-df-quickchart-complete:disabled:hover {\n",
              "    background-color: var(--disabled-bg-color);\n",
              "    fill: var(--disabled-fill-color);\n",
              "    box-shadow: none;\n",
              "  }\n",
              "\n",
              "  .colab-df-spinner {\n",
              "    border: 2px solid var(--fill-color);\n",
              "    border-color: transparent;\n",
              "    border-bottom-color: var(--fill-color);\n",
              "    animation:\n",
              "      spin 1s steps(1) infinite;\n",
              "  }\n",
              "\n",
              "  @keyframes spin {\n",
              "    0% {\n",
              "      border-color: transparent;\n",
              "      border-bottom-color: var(--fill-color);\n",
              "      border-left-color: var(--fill-color);\n",
              "    }\n",
              "    20% {\n",
              "      border-color: transparent;\n",
              "      border-left-color: var(--fill-color);\n",
              "      border-top-color: var(--fill-color);\n",
              "    }\n",
              "    30% {\n",
              "      border-color: transparent;\n",
              "      border-left-color: var(--fill-color);\n",
              "      border-top-color: var(--fill-color);\n",
              "      border-right-color: var(--fill-color);\n",
              "    }\n",
              "    40% {\n",
              "      border-color: transparent;\n",
              "      border-right-color: var(--fill-color);\n",
              "      border-top-color: var(--fill-color);\n",
              "    }\n",
              "    60% {\n",
              "      border-color: transparent;\n",
              "      border-right-color: var(--fill-color);\n",
              "    }\n",
              "    80% {\n",
              "      border-color: transparent;\n",
              "      border-right-color: var(--fill-color);\n",
              "      border-bottom-color: var(--fill-color);\n",
              "    }\n",
              "    90% {\n",
              "      border-color: transparent;\n",
              "      border-bottom-color: var(--fill-color);\n",
              "    }\n",
              "  }\n",
              "</style>\n",
              "\n",
              "      <script>\n",
              "        async function quickchart(key) {\n",
              "          const quickchartButtonEl =\n",
              "            document.querySelector('#' + key + ' button');\n",
              "          quickchartButtonEl.disabled = true;  // To prevent multiple clicks.\n",
              "          quickchartButtonEl.classList.add('colab-df-spinner');\n",
              "          try {\n",
              "            const charts = await google.colab.kernel.invokeFunction(\n",
              "                'suggestCharts', [key], {});\n",
              "          } catch (error) {\n",
              "            console.error('Error during call to suggestCharts:', error);\n",
              "          }\n",
              "          quickchartButtonEl.classList.remove('colab-df-spinner');\n",
              "          quickchartButtonEl.classList.add('colab-df-quickchart-complete');\n",
              "        }\n",
              "        (() => {\n",
              "          let quickchartButtonEl =\n",
              "            document.querySelector('#df-dc54d30d-6d7a-4f33-a09e-cd7e42838d1d button');\n",
              "          quickchartButtonEl.style.display =\n",
              "            google.colab.kernel.accessAllowed ? 'block' : 'none';\n",
              "        })();\n",
              "      </script>\n",
              "    </div>\n",
              "\n",
              "    </div>\n",
              "  </div>\n"
            ],
            "application/vnd.google.colaboratory.intrinsic+json": {
              "type": "dataframe",
              "variable_name": "df",
              "summary": "{\n  \"name\": \"df\",\n  \"rows\": 10000,\n  \"fields\": [\n    {\n      \"column\": \"donor_id\",\n      \"properties\": {\n        \"dtype\": \"string\",\n        \"num_unique_values\": 10000,\n        \"samples\": [\n          \"9380b88ce1\",\n          \"4305a24737\",\n          \"4b0b285973\"\n        ],\n        \"semantic_type\": \"\",\n        \"description\": \"\"\n      }\n    },\n    {\n      \"column\": \"name\",\n      \"properties\": {\n        \"dtype\": \"string\",\n        \"num_unique_values\": 9419,\n        \"samples\": [\n          \"Tamara Walters\",\n          \"Ivan Williamson\",\n          \"Shannon Copeland\"\n        ],\n        \"semantic_type\": \"\",\n        \"description\": \"\"\n      }\n    },\n    {\n      \"column\": \"email\",\n      \"properties\": {\n        \"dtype\": \"string\",\n        \"num_unique_values\": 9954,\n        \"samples\": [\n          \"barry94@hotmail.com\",\n          \"jjones@smith-lee.com\",\n          \"castilloryan@gmail.com\"\n        ],\n        \"semantic_type\": \"\",\n        \"description\": \"\"\n      }\n    },\n    {\n      \"column\": \"password\",\n      \"properties\": {\n        \"dtype\": \"string\",\n        \"num_unique_values\": 10000,\n        \"samples\": [\n          \")FJ1KZx+d6\",\n          \"e6DLqAIn(k\",\n          \"#h8MtWs!a*\"\n        ],\n        \"semantic_type\": \"\",\n        \"description\": \"\"\n      }\n    },\n    {\n      \"column\": \"contact_number\",\n      \"properties\": {\n        \"dtype\": \"string\",\n        \"num_unique_values\": 9998,\n        \"samples\": [\n          \"+61 413553737\",\n          \"+61 435069548\",\n          \"+61 430982449\"\n        ],\n        \"semantic_type\": \"\",\n        \"description\": \"\"\n      }\n    },\n    {\n      \"column\": \"city\",\n      \"properties\": {\n        \"dtype\": \"category\",\n        \"num_unique_values\": 8,\n        \"samples\": [\n          \"Darwin\",\n          \"Adelaide\",\n          \"Hobart\"\n        ],\n        \"semantic_type\": \"\",\n        \"description\": \"\"\n      }\n    },\n    {\n      \"column\": \"blood_group\",\n      \"properties\": {\n        \"dtype\": \"category\",\n        \"num_unique_values\": 8,\n        \"samples\": [\n          \"AB-\",\n          \"B-\",\n          \"A+\"\n        ],\n        \"semantic_type\": \"\",\n        \"description\": \"\"\n      }\n    },\n    {\n      \"column\": \"availability\",\n      \"properties\": {\n        \"dtype\": \"category\",\n        \"num_unique_values\": 2,\n        \"samples\": [\n          \"Yes\",\n          \"No\"\n        ],\n        \"semantic_type\": \"\",\n        \"description\": \"\"\n      }\n    },\n    {\n      \"column\": \"months_since_first_donation\",\n      \"properties\": {\n        \"dtype\": \"number\",\n        \"std\": 34,\n        \"min\": 0,\n        \"max\": 120,\n        \"num_unique_values\": 121,\n        \"samples\": [\n          14,\n          12\n        ],\n        \"semantic_type\": \"\",\n        \"description\": \"\"\n      }\n    },\n    {\n      \"column\": \"number_of_donation\",\n      \"properties\": {\n        \"dtype\": \"number\",\n        \"std\": 14,\n        \"min\": 0,\n        \"max\": 50,\n        \"num_unique_values\": 51,\n        \"samples\": [\n          15,\n          3\n        ],\n        \"semantic_type\": \"\",\n        \"description\": \"\"\n      }\n    },\n    {\n      \"column\": \"pints_donated\",\n      \"properties\": {\n        \"dtype\": \"number\",\n        \"std\": 26,\n        \"min\": 0,\n        \"max\": 100,\n        \"num_unique_values\": 76,\n        \"samples\": [\n          35,\n          7\n        ],\n        \"semantic_type\": \"\",\n        \"description\": \"\"\n      }\n    },\n    {\n      \"column\": \"created_at\",\n      \"properties\": {\n        \"dtype\": \"object\",\n        \"num_unique_values\": 3409,\n        \"samples\": [\n          \"2016-07-22\",\n          \"2018-03-22\"\n        ],\n        \"semantic_type\": \"\",\n        \"description\": \"\"\n      }\n    }\n  ]\n}"
            }
          },
          "metadata": {},
          "execution_count": 3
        }
      ]
    },
    {
      "cell_type": "markdown",
      "source": [
        "Limpieza de Datos"
      ],
      "metadata": {
        "id": "Ve1_FQa9H3WG"
      }
    },
    {
      "cell_type": "code",
      "source": [
        "df.info()"
      ],
      "metadata": {
        "colab": {
          "base_uri": "https://localhost:8080/"
        },
        "id": "h7oQ3-9wH3DD",
        "outputId": "7a3acbb7-a06a-4747-d346-559c779e1db3"
      },
      "execution_count": 4,
      "outputs": [
        {
          "output_type": "stream",
          "name": "stdout",
          "text": [
            "<class 'pandas.core.frame.DataFrame'>\n",
            "RangeIndex: 10000 entries, 0 to 9999\n",
            "Data columns (total 12 columns):\n",
            " #   Column                       Non-Null Count  Dtype \n",
            "---  ------                       --------------  ----- \n",
            " 0   donor_id                     10000 non-null  object\n",
            " 1   name                         10000 non-null  object\n",
            " 2   email                        10000 non-null  object\n",
            " 3   password                     10000 non-null  object\n",
            " 4   contact_number               10000 non-null  object\n",
            " 5   city                         10000 non-null  object\n",
            " 6   blood_group                  10000 non-null  object\n",
            " 7   availability                 10000 non-null  object\n",
            " 8   months_since_first_donation  10000 non-null  int64 \n",
            " 9   number_of_donation           10000 non-null  int64 \n",
            " 10  pints_donated                10000 non-null  int64 \n",
            " 11  created_at                   10000 non-null  object\n",
            "dtypes: int64(3), object(9)\n",
            "memory usage: 937.6+ KB\n"
          ]
        }
      ]
    },
    {
      "cell_type": "markdown",
      "source": [
        "Para comenzar a verificar que nuestro dataset este limpio, comenzamos con verificar su estructura (dimensiones y nombres de las columnas)"
      ],
      "metadata": {
        "id": "9px14QWSKHvM"
      }
    },
    {
      "cell_type": "code",
      "source": [
        "print(df.shape)\n",
        "print(df.columns)"
      ],
      "metadata": {
        "colab": {
          "base_uri": "https://localhost:8080/"
        },
        "id": "Nvvrq0RrIUim",
        "outputId": "c7dd2a60-20d3-40af-b19b-2c5a202d6aeb"
      },
      "execution_count": 9,
      "outputs": [
        {
          "output_type": "stream",
          "name": "stdout",
          "text": [
            "(10000, 12)\n",
            "Index(['donor_id', 'name', 'email', 'password', 'contact_number', 'city',\n",
            "       'blood_group', 'availability', 'months_since_first_donation',\n",
            "       'number_of_donation', 'pints_donated', 'created_at'],\n",
            "      dtype='object')\n"
          ]
        }
      ]
    },
    {
      "cell_type": "markdown",
      "source": [
        "Usamos las siguientes funciones para verificar que en nuestro dataset no existan datos duplicados ni valores nulos, y validamos los tipos de datos."
      ],
      "metadata": {
        "id": "8PrJETsdKd7g"
      }
    },
    {
      "cell_type": "code",
      "source": [
        "print(\"Filas duplicadas:\", df.duplicated().sum())\n",
        "print(\"Valores nulos por columna:\\n\", df.isnull().sum())\n",
        "print(\"Tipos de datos:\\n\", df.dtypes)"
      ],
      "metadata": {
        "colab": {
          "base_uri": "https://localhost:8080/"
        },
        "id": "TlhVE6piKeHu",
        "outputId": "717fb0cc-97b9-4a8d-c8b2-2e7b50e3ddeb"
      },
      "execution_count": 13,
      "outputs": [
        {
          "output_type": "stream",
          "name": "stdout",
          "text": [
            "Filas duplicadas: 0\n",
            "Valores nulos por columna:\n",
            " donor_id                       0\n",
            "name                           0\n",
            "email                          0\n",
            "password                       0\n",
            "contact_number                 0\n",
            "city                           0\n",
            "blood_group                    0\n",
            "availability                   0\n",
            "months_since_first_donation    0\n",
            "number_of_donation             0\n",
            "pints_donated                  0\n",
            "created_at                     0\n",
            "email_valido                   0\n",
            "dtype: int64\n",
            "Tipos de datos:\n",
            " donor_id                               object\n",
            "name                                   object\n",
            "email                                  object\n",
            "password                               object\n",
            "contact_number                         object\n",
            "city                                   object\n",
            "blood_group                            object\n",
            "availability                           object\n",
            "months_since_first_donation             int64\n",
            "number_of_donation                      int64\n",
            "pints_donated                           int64\n",
            "created_at                     datetime64[ns]\n",
            "email_valido                             bool\n",
            "dtype: object\n"
          ]
        }
      ]
    },
    {
      "cell_type": "markdown",
      "source": [
        "Usamos las siguientes funciones para convertir fechas si es necesario y confirmar que los correos sean validos."
      ],
      "metadata": {
        "id": "Noc690P1Kj7W"
      }
    },
    {
      "cell_type": "code",
      "source": [
        "df[\"created_at\"] = pd.to_datetime(df[\"created_at\"], errors=\"coerce\")\n",
        "print(\"Fechas no convertidas:\", df[\"created_at\"].isnull().sum())\n",
        "\n",
        "df[\"email_valido\"] = df[\"email\"].str.contains(r\"^[\\w\\.-]+@[\\w\\.-]+\\.\\w+$\", regex=True)\n",
        "print(\"Correos inválidos:\", (~df[\"email_valido\"]).sum())"
      ],
      "metadata": {
        "colab": {
          "base_uri": "https://localhost:8080/"
        },
        "id": "_2wNDTAsKkET",
        "outputId": "5ad95e25-8d3e-4f9a-cb54-22d0bbbdc230"
      },
      "execution_count": 14,
      "outputs": [
        {
          "output_type": "stream",
          "name": "stdout",
          "text": [
            "Fechas no convertidas: 0\n",
            "Correos inválidos: 0\n"
          ]
        }
      ]
    },
    {
      "cell_type": "markdown",
      "source": [
        "Revisamos las variables \"availability\" y \"blood_group\""
      ],
      "metadata": {
        "id": "pMRUpwF6L_bi"
      }
    },
    {
      "cell_type": "code",
      "source": [
        "df[\"availability\"].value_counts()"
      ],
      "metadata": {
        "colab": {
          "base_uri": "https://localhost:8080/",
          "height": 178
        },
        "id": "-ETaTNviMczv",
        "outputId": "b22b4f21-9341-4281-f632-21832154b630"
      },
      "execution_count": 22,
      "outputs": [
        {
          "output_type": "execute_result",
          "data": {
            "text/plain": [
              "availability\n",
              "yes    5085\n",
              "no     4915\n",
              "Name: count, dtype: int64"
            ],
            "text/html": [
              "<div>\n",
              "<style scoped>\n",
              "    .dataframe tbody tr th:only-of-type {\n",
              "        vertical-align: middle;\n",
              "    }\n",
              "\n",
              "    .dataframe tbody tr th {\n",
              "        vertical-align: top;\n",
              "    }\n",
              "\n",
              "    .dataframe thead th {\n",
              "        text-align: right;\n",
              "    }\n",
              "</style>\n",
              "<table border=\"1\" class=\"dataframe\">\n",
              "  <thead>\n",
              "    <tr style=\"text-align: right;\">\n",
              "      <th></th>\n",
              "      <th>count</th>\n",
              "    </tr>\n",
              "    <tr>\n",
              "      <th>availability</th>\n",
              "      <th></th>\n",
              "    </tr>\n",
              "  </thead>\n",
              "  <tbody>\n",
              "    <tr>\n",
              "      <th>yes</th>\n",
              "      <td>5085</td>\n",
              "    </tr>\n",
              "    <tr>\n",
              "      <th>no</th>\n",
              "      <td>4915</td>\n",
              "    </tr>\n",
              "  </tbody>\n",
              "</table>\n",
              "</div><br><label><b>dtype:</b> int64</label>"
            ]
          },
          "metadata": {},
          "execution_count": 22
        }
      ]
    },
    {
      "cell_type": "code",
      "source": [
        "print(df[\"blood_group\"].unique())\n",
        "\n",
        "grupos_validos = [\"A+\", \"A-\", \"B+\", \"B-\", \"AB+\", \"AB-\", \"O+\", \"O-\"]\n",
        "df_invalidos = df[~df[\"blood_group\"].isin(grupos_validos)]\n",
        "\n",
        "print(\"Registros con blood_group inválido:\", len(df_invalidos))\n",
        "print(df_invalidos[[\"donor_id\", \"blood_group\"]])"
      ],
      "metadata": {
        "colab": {
          "base_uri": "https://localhost:8080/"
        },
        "id": "H7rXjjlyNL4b",
        "outputId": "3a7234a0-7d7b-4fa3-ff09-11d57a560b2e"
      },
      "execution_count": 24,
      "outputs": [
        {
          "output_type": "stream",
          "name": "stdout",
          "text": [
            "['A+' 'AB-' 'AB+' 'A-' 'O-' 'B-' 'O+' 'B+']\n",
            "Registros con blood_group inválido: 0\n",
            "Empty DataFrame\n",
            "Columns: [donor_id, blood_group]\n",
            "Index: []\n"
          ]
        }
      ]
    }
  ]
}